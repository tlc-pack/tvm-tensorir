{
 "cells": [
  {
   "cell_type": "code",
   "execution_count": 6,
   "metadata": {},
   "outputs": [
    {
     "name": "stdout",
     "output_type": "stream",
     "text": [
      "// attr [compute(B, 0x24137b0)] realize_scope = \"\"\n",
      "realize B([0, 128], [0, 128], [0, 128]) {\n",
      "  produce B {\n",
      "    for (i, 0, 128) {\n",
      "      for (j, 0, 128) {\n",
      "        for (k.outer, 0, 8) {\n",
      "          for (k.inner, 0, 16) {\n",
      "            B(i, j, (k.inner + (k.outer*16))) =(A(i, j, (k.inner + (k.outer*16))) + 1.000000f)\n",
      "          }\n",
      "        }\n",
      "      }\n",
      "    }\n",
      "  }\n",
      "  // attr [compute(C, 0x2408ae0)] realize_scope = \"\"\n",
      "  realize C([0, 128], [0, 128], [0, 128]) {\n",
      "    produce C {\n",
      "      for (i, 0, 128) {\n",
      "        for (j, 0, 128) {\n",
      "          for (k, 0, 128) {\n",
      "            C(i, j, k) =(B(i, j, k)*2.000000f)\n",
      "          }\n",
      "        }\n",
      "      }\n",
      "    }\n",
      "    // attr [compute(D, 0x2415900)] realize_scope = \"\"\n",
      "    realize D([0, 128], [0, 128], [0, 128]) {\n",
      "      produce D {\n",
      "        for (i, 0, 128) {\n",
      "          for (j, 0, 128) {\n",
      "            for (k, 0, 128) {\n",
      "              D(i, j, k) =(C(i, j, k) - 3.000000f)\n",
      "            }\n",
      "          }\n",
      "        }\n",
      "      }\n",
      "    }\n",
      "  }\n",
      "}\n",
      "\n"
     ]
    }
   ],
   "source": [
    "import tvm\n",
    "from tvm import tensorir\n",
    "\n",
    "def get_phase0(s, args, simple_mode=True):\n",
    "    \"\"\"get statement after phase 0\"\"\"\n",
    "    ret = []\n",
    "\n",
    "    def fetch_pass(stmt):\n",
    "        ret.append(stmt)\n",
    "        return stmt\n",
    "\n",
    "    with tvm.build_config(add_lower_pass=[(0, fetch_pass)]):\n",
    "        tvm.lower(s, args, simple_mode=simple_mode)\n",
    "\n",
    "    return ret[0]\n",
    "\n",
    "\n",
    "N = M = K = 128\n",
    "\n",
    "A = tvm.placeholder((N, M, K), name='A')\n",
    "B = tvm.compute((N, M, K), lambda i, j, k: A[i, j, k] + 1, name='B')\n",
    "C = tvm.compute((N, M, K), lambda i, j, k: B[i, j, k] * 2, name='C')\n",
    "D = tvm.compute((N, M, K), lambda i, j, k: C[i, j, k] - 3, name='D')\n",
    "\n",
    "s = tvm.create_schedule([C.op, D.op])\n",
    "s[B].split(s[B].op.axis[2], 16)\n",
    "stmt = get_phase0(s, [A, C, D])\n",
    "\n",
    "print(stmt)"
   ]
  },
  {
   "cell_type": "code",
   "execution_count": 13,
   "metadata": {},
   "outputs": [
    {
     "name": "stdout",
     "output_type": "stream",
     "text": [
      "for root = 0 to 1\n",
      "  for i = 0 to 128\n",
      "    for j = 0 to 128\n",
      "      for k.outer = 0 to 8\n",
      "        for k.inner = 0 to 16\n",
      "          B(i, j, (k.inner + (k.outer*16))) =(A(i, j, (k.inner + (k.outer*16))) + 1.000000f)\n",
      "  for i = 0 to 128\n",
      "    for j = 0 to 128\n",
      "      for k = 0 to 128\n",
      "        C(i, j, k) =(B(i, j, k)*2.000000f)\n",
      "  for i = 0 to 128\n",
      "    for j = 0 to 128\n",
      "      for k = 0 to 128\n",
      "        D(i, j, k) =(C(i, j, k) - 3.000000f)\n",
      "\n"
     ]
    }
   ],
   "source": [
    "s = tensorir.create_schedule(stmt)\n",
    "\n",
    "B, C, D = s.statements()\n",
    "i, j, k = s.axis(C)\n",
    "\n",
    "print(s.root)"
   ]
  },
  {
   "cell_type": "code",
   "execution_count": 14,
   "metadata": {},
   "outputs": [
    {
     "name": "stdout",
     "output_type": "stream",
     "text": [
      "for root = 0 to 1\n",
      "  for i = 0 to 128\n",
      "    for j = 0 to 128\n",
      "      for k.outer = 0 to 8\n",
      "        for k.inner = 0 to 16\n",
      "          B(i, j, (k.inner + (k.outer*16))) =(A(i, j, (k.inner + (k.outer*16))) + 1.000000f)\n",
      "  for i = 0 to 128\n",
      "    for j = 0 to 128\n",
      "      for axis_2 = 0 to 127\n",
      "        C(i, j, axis_2) =(B(i, j, axis_2)*2.000000f)\n",
      "      for k = 0 to 128\n",
      "        D(i, j, k) =(C(i, j, k) - 3.000000f)\n",
      "\n"
     ]
    }
   ],
   "source": [
    "i, j, k = s.axis(D)\n",
    "s.compute_at(C, j)\n",
    "\n",
    "print(s.root)"
   ]
  },
  {
   "cell_type": "code",
   "execution_count": 15,
   "metadata": {},
   "outputs": [
    {
     "name": "stdout",
     "output_type": "stream",
     "text": [
      "for root = 0 to 1\n",
      "  for i = 0 to 128\n",
      "    for j = 0 to 128\n",
      "      for axis_2 = 0 to 127\n",
      "        C(i, j, axis_2) =((A(i, j, axis_2) + 1.000000f)*2.000000f)\n",
      "      for k = 0 to 128\n",
      "        D(i, j, k) =(C(i, j, k) - 3.000000f)\n",
      "\n"
     ]
    }
   ],
   "source": [
    "s.compute_inline(B)\n",
    "\n",
    "print(s.root)"
   ]
  },
  {
   "cell_type": "code",
   "execution_count": 16,
   "metadata": {},
   "outputs": [
    {
     "name": "stdout",
     "output_type": "stream",
     "text": [
      "for root = 0 to 1\n",
      "  for i = 0 to 128\n",
      "    for j = 0 to 128\n",
      "      for axis_2 = 0 to 127\n",
      "        C(axis_2) =((A(i, j, axis_2) + 1.000000f)*2.000000f)\n",
      "      for k = 0 to 128\n",
      "        D(i, j, k) =(C(k) - 3.000000f)\n",
      "\n"
     ]
    }
   ],
   "source": [
    "s.shrink_layout(C)\n",
    "\n",
    "print(s.root)"
   ]
  },
  {
   "cell_type": "code",
   "execution_count": null,
   "metadata": {},
   "outputs": [],
   "source": [
    "s.expand_layout(C)\n",
    "s.compute_root(C)\n",
    "\n",
    "print(s.root)"
   ]
  }
 ],
 "metadata": {
  "kernelspec": {
   "display_name": "Python 3",
   "language": "python",
   "name": "python3"
  },
  "language_info": {
   "codemirror_mode": {
    "name": "ipython",
    "version": 3
   },
   "file_extension": ".py",
   "mimetype": "text/x-python",
   "name": "python",
   "nbconvert_exporter": "python",
   "pygments_lexer": "ipython3",
   "version": "3.6.7"
  }
 },
 "nbformat": 4,
 "nbformat_minor": 2
}
